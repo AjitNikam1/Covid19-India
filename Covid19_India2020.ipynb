{
  "nbformat": 4,
  "nbformat_minor": 0,
  "metadata": {
    "colab": {
      "name": "Covid19-India2020.ipynb",
      "provenance": [],
      "collapsed_sections": [],
      "authorship_tag": "ABX9TyPXRbiyFq4pC0ZSCgX3tGMC",
      "include_colab_link": true
    },
    "kernelspec": {
      "name": "python3",
      "display_name": "Python 3"
    },
    "accelerator": "GPU"
  },
  "cells": [
    {
      "cell_type": "markdown",
      "metadata": {
        "id": "view-in-github",
        "colab_type": "text"
      },
      "source": [
        "<a href=\"https://colab.research.google.com/github/AjitNikam1/Covid19-India/blob/master/Covid19_India2020.ipynb\" target=\"_parent\"><img src=\"https://colab.research.google.com/assets/colab-badge.svg\" alt=\"Open In Colab\"/></a>"
      ]
    },
    {
      "cell_type": "markdown",
      "metadata": {
        "id": "VEnGyJj_Fwsb",
        "colab_type": "text"
      },
      "source": [
        "#Covid19-Pandemic-India Dataset Analysis\n",
        "I am going to get some usefull insights for Covid19-India2020 data set obtained from Kaggle.com\n",
        "[https://www.kaggle.com/imdevskp/covid19-corona-virus-india-dataset#patient_wise_data_scrapping_and_cleaning.ipynb](https://www.kaggle.com/imdevskp/covid19-corona-virus-india-dataset#patient_wise_data_scrapping_and_cleaning.ipynb)"
      ]
    },
    {
      "cell_type": "markdown",
      "metadata": {
        "id": "VIsm5d7hUjrq",
        "colab_type": "text"
      },
      "source": [
        "##Import Required Packages"
      ]
    },
    {
      "cell_type": "code",
      "metadata": {
        "id": "_I0eTlx0IU_C",
        "colab_type": "code",
        "colab": {}
      },
      "source": [
        "import pandas as pd\n",
        "import numpy as np\n",
        "from IPython.core.interactiveshell import InteractiveShell\n",
        "InteractiveShell.ast_node_interactivity = \"all\"\n",
        "from sklearn.preprocessing import StandardScaler\n",
        "from sklearn import preprocessing"
      ],
      "execution_count": 0,
      "outputs": []
    },
    {
      "cell_type": "markdown",
      "metadata": {
        "id": "hZ52DJCJU2uw",
        "colab_type": "text"
      },
      "source": [
        "## Read Data\n",
        "Get the cleaned dataset file from following Kaggle link\n",
        "[https://www.kaggle.com/imdevskp/covid19-corona-virus-india-dataset#patient_wise_data_scrapping_and_cleaning.ipynb](https://www.kaggle.com/imdevskp/covid19-corona-virus-india-dataset#patient_wise_data_scrapping_and_cleaning.ipynb)"
      ]
    },
    {
      "cell_type": "code",
      "metadata": {
        "id": "o2V1v0gvU4pF",
        "colab_type": "code",
        "colab": {
          "base_uri": "https://localhost:8080/",
          "height": 460
        },
        "outputId": "c78809ac-c921-4a6b-926b-7e9188086e0e"
      },
      "source": [
        "# Read data from Githun repository\n",
        "url = 'https://raw.githubusercontent.com/AjitNikam1/Covid19-India/master/patients_data.csv' # Url for importing Data from Github Repo\n",
        "patients_data = pd.read_csv(url,delimiter=\",\") #Delimiter argument added as data is seperated by semicolon in .csv file \n",
        "patients_data.head()"
      ],
      "execution_count": 7,
      "outputs": [
        {
          "output_type": "execute_result",
          "data": {
            "text/html": [
              "<div>\n",
              "<style scoped>\n",
              "    .dataframe tbody tr th:only-of-type {\n",
              "        vertical-align: middle;\n",
              "    }\n",
              "\n",
              "    .dataframe tbody tr th {\n",
              "        vertical-align: top;\n",
              "    }\n",
              "\n",
              "    .dataframe thead th {\n",
              "        text-align: right;\n",
              "    }\n",
              "</style>\n",
              "<table border=\"1\" class=\"dataframe\">\n",
              "  <thead>\n",
              "    <tr style=\"text-align: right;\">\n",
              "      <th></th>\n",
              "      <th>patient_number</th>\n",
              "      <th>state_patient_number</th>\n",
              "      <th>date_announced</th>\n",
              "      <th>estimated_onset_date</th>\n",
              "      <th>age_bracket</th>\n",
              "      <th>gender</th>\n",
              "      <th>detected_city</th>\n",
              "      <th>detected_district</th>\n",
              "      <th>detected_state</th>\n",
              "      <th>state_code</th>\n",
              "      <th>current_status</th>\n",
              "      <th>notes</th>\n",
              "      <th>suspected_contacted_patient</th>\n",
              "      <th>nationality</th>\n",
              "      <th>type_of_transmission</th>\n",
              "      <th>status_change_date</th>\n",
              "      <th>source_1</th>\n",
              "      <th>source_2</th>\n",
              "      <th>source_3</th>\n",
              "      <th>backup_notes</th>\n",
              "    </tr>\n",
              "  </thead>\n",
              "  <tbody>\n",
              "    <tr>\n",
              "      <th>0</th>\n",
              "      <td>1</td>\n",
              "      <td>KL-TS-P1</td>\n",
              "      <td>30/01/2020</td>\n",
              "      <td>NaN</td>\n",
              "      <td>20</td>\n",
              "      <td>F</td>\n",
              "      <td>Thrissur</td>\n",
              "      <td>Thrissur</td>\n",
              "      <td>Kerala</td>\n",
              "      <td>KL</td>\n",
              "      <td>Recovered</td>\n",
              "      <td>Travelled from Wuhan</td>\n",
              "      <td>NaN</td>\n",
              "      <td>India</td>\n",
              "      <td>Imported</td>\n",
              "      <td>14/02/2020</td>\n",
              "      <td>https://twitter.com/vijayanpinarayi/status/122...</td>\n",
              "      <td>https://weather.com/en-IN/india/news/news/2020...</td>\n",
              "      <td>Student from Wuhan</td>\n",
              "      <td>NaN</td>\n",
              "    </tr>\n",
              "    <tr>\n",
              "      <th>1</th>\n",
              "      <td>2</td>\n",
              "      <td>KL-AL-P1</td>\n",
              "      <td>02/02/2020</td>\n",
              "      <td>NaN</td>\n",
              "      <td>NaN</td>\n",
              "      <td>NaN</td>\n",
              "      <td>Alappuzha</td>\n",
              "      <td>Alappuzha</td>\n",
              "      <td>Kerala</td>\n",
              "      <td>KL</td>\n",
              "      <td>Recovered</td>\n",
              "      <td>Travelled from Wuhan</td>\n",
              "      <td>NaN</td>\n",
              "      <td>India</td>\n",
              "      <td>Imported</td>\n",
              "      <td>14/02/2020</td>\n",
              "      <td>https://www.indiatoday.in/india/story/kerala-r...</td>\n",
              "      <td>https://weather.com/en-IN/india/news/news/2020...</td>\n",
              "      <td>NaN</td>\n",
              "      <td>Student from Wuhan</td>\n",
              "    </tr>\n",
              "    <tr>\n",
              "      <th>2</th>\n",
              "      <td>3</td>\n",
              "      <td>KL-KS-P1</td>\n",
              "      <td>03/02/2020</td>\n",
              "      <td>NaN</td>\n",
              "      <td>NaN</td>\n",
              "      <td>NaN</td>\n",
              "      <td>Kasaragod</td>\n",
              "      <td>Kasaragod</td>\n",
              "      <td>Kerala</td>\n",
              "      <td>KL</td>\n",
              "      <td>Recovered</td>\n",
              "      <td>Travelled from Wuhan</td>\n",
              "      <td>NaN</td>\n",
              "      <td>India</td>\n",
              "      <td>Imported</td>\n",
              "      <td>14/02/2020</td>\n",
              "      <td>https://www.indiatoday.in/india/story/kerala-n...</td>\n",
              "      <td>https://twitter.com/ANI/status/122422148580539...</td>\n",
              "      <td>https://weather.com/en-IN/india/news/news/2020...</td>\n",
              "      <td>Student from Wuhan</td>\n",
              "    </tr>\n",
              "    <tr>\n",
              "      <th>3</th>\n",
              "      <td>4</td>\n",
              "      <td>DL-P1</td>\n",
              "      <td>02/03/2020</td>\n",
              "      <td>NaN</td>\n",
              "      <td>45</td>\n",
              "      <td>M</td>\n",
              "      <td>East Delhi (Mayur Vihar)</td>\n",
              "      <td>East Delhi</td>\n",
              "      <td>Delhi</td>\n",
              "      <td>DL</td>\n",
              "      <td>Recovered</td>\n",
              "      <td>Travelled from Austria, Italy</td>\n",
              "      <td>NaN</td>\n",
              "      <td>India</td>\n",
              "      <td>Imported</td>\n",
              "      <td>15/03/2020</td>\n",
              "      <td>https://www.indiatoday.in/india/story/not-a-ja...</td>\n",
              "      <td>https://economictimes.indiatimes.com/news/poli...</td>\n",
              "      <td>NaN</td>\n",
              "      <td>Travel history to Italy and Austria</td>\n",
              "    </tr>\n",
              "    <tr>\n",
              "      <th>4</th>\n",
              "      <td>5</td>\n",
              "      <td>TS-P1</td>\n",
              "      <td>02/03/2020</td>\n",
              "      <td>NaN</td>\n",
              "      <td>24</td>\n",
              "      <td>M</td>\n",
              "      <td>Hyderabad</td>\n",
              "      <td>Hyderabad</td>\n",
              "      <td>Telangana</td>\n",
              "      <td>TG</td>\n",
              "      <td>Recovered</td>\n",
              "      <td>Travelled from Dubai to Bangalore on 20th Feb,...</td>\n",
              "      <td>NaN</td>\n",
              "      <td>India</td>\n",
              "      <td>Imported</td>\n",
              "      <td>02/03/2020</td>\n",
              "      <td>https://www.deccanherald.com/national/south/qu...</td>\n",
              "      <td>https://www.indiatoday.in/india/story/coronavi...</td>\n",
              "      <td>https://www.thehindu.com/news/national/coronav...</td>\n",
              "      <td>Travel history to Dubai, Singapore contact</td>\n",
              "    </tr>\n",
              "  </tbody>\n",
              "</table>\n",
              "</div>"
            ],
            "text/plain": [
              "   patient_number  ...                                backup_notes\n",
              "0               1  ...                                         NaN\n",
              "1               2  ...                          Student from Wuhan\n",
              "2               3  ...                          Student from Wuhan\n",
              "3               4  ...         Travel history to Italy and Austria\n",
              "4               5  ...  Travel history to Dubai, Singapore contact\n",
              "\n",
              "[5 rows x 20 columns]"
            ]
          },
          "metadata": {
            "tags": []
          },
          "execution_count": 7
        }
      ]
    },
    {
      "cell_type": "markdown",
      "metadata": {
        "id": "pjXH7HtdWSJy",
        "colab_type": "text"
      },
      "source": [
        "## Exploratory Data Analysis"
      ]
    },
    {
      "cell_type": "markdown",
      "metadata": {
        "id": "EsVHQaZ5Wb4l",
        "colab_type": "text"
      },
      "source": [
        "### General Data Set Inormation "
      ]
    },
    {
      "cell_type": "code",
      "metadata": {
        "id": "nSVZOcDEWUVR",
        "colab_type": "code",
        "colab": {
          "base_uri": "https://localhost:8080/",
          "height": 508
        },
        "outputId": "13cb2592-d9b2-4b80-db94-a12b994a7544"
      },
      "source": [
        "# Lets look into general Dataset information\n",
        "patients_data.info()"
      ],
      "execution_count": 8,
      "outputs": [
        {
          "output_type": "stream",
          "text": [
            "<class 'pandas.core.frame.DataFrame'>\n",
            "RangeIndex: 17357 entries, 0 to 17356\n",
            "Data columns (total 20 columns):\n",
            " #   Column                       Non-Null Count  Dtype  \n",
            "---  ------                       --------------  -----  \n",
            " 0   patient_number               17357 non-null  int64  \n",
            " 1   state_patient_number         2457 non-null   object \n",
            " 2   date_announced               17357 non-null  object \n",
            " 3   estimated_onset_date         0 non-null      float64\n",
            " 4   age_bracket                  1669 non-null   object \n",
            " 5   gender                       3745 non-null   object \n",
            " 6   detected_city                2162 non-null   object \n",
            " 7   detected_district            14380 non-null  object \n",
            " 8   detected_state               17357 non-null  object \n",
            " 9   state_code                   17357 non-null  object \n",
            " 10  current_status               17357 non-null  object \n",
            " 11  notes                        16040 non-null  object \n",
            " 12  suspected_contacted_patient  1534 non-null   object \n",
            " 13  nationality                  1310 non-null   object \n",
            " 14  type_of_transmission         2950 non-null   object \n",
            " 15  status_change_date           17247 non-null  object \n",
            " 16  source_1                     17020 non-null  object \n",
            " 17  source_2                     3395 non-null   object \n",
            " 18  source_3                     445 non-null    object \n",
            " 19  backup_notes                 360 non-null    object \n",
            "dtypes: float64(1), int64(1), object(18)\n",
            "memory usage: 2.6+ MB\n"
          ],
          "name": "stdout"
        }
      ]
    },
    {
      "cell_type": "markdown",
      "metadata": {
        "id": "BxyDdmcaW7xH",
        "colab_type": "text"
      },
      "source": [
        "#### Statistical Summary of Dataset"
      ]
    },
    {
      "cell_type": "code",
      "metadata": {
        "id": "N4Ck9Qj-W9vb",
        "colab_type": "code",
        "colab": {
          "base_uri": "https://localhost:8080/",
          "height": 288
        },
        "outputId": "a1e2e9d5-06b7-4647-b96d-1527d86c6782"
      },
      "source": [
        "# Lets see the statistical summary of the dataset\n",
        "patients_data.describe()"
      ],
      "execution_count": 9,
      "outputs": [
        {
          "output_type": "execute_result",
          "data": {
            "text/html": [
              "<div>\n",
              "<style scoped>\n",
              "    .dataframe tbody tr th:only-of-type {\n",
              "        vertical-align: middle;\n",
              "    }\n",
              "\n",
              "    .dataframe tbody tr th {\n",
              "        vertical-align: top;\n",
              "    }\n",
              "\n",
              "    .dataframe thead th {\n",
              "        text-align: right;\n",
              "    }\n",
              "</style>\n",
              "<table border=\"1\" class=\"dataframe\">\n",
              "  <thead>\n",
              "    <tr style=\"text-align: right;\">\n",
              "      <th></th>\n",
              "      <th>patient_number</th>\n",
              "      <th>estimated_onset_date</th>\n",
              "    </tr>\n",
              "  </thead>\n",
              "  <tbody>\n",
              "    <tr>\n",
              "      <th>count</th>\n",
              "      <td>17357.000000</td>\n",
              "      <td>0.0</td>\n",
              "    </tr>\n",
              "    <tr>\n",
              "      <th>mean</th>\n",
              "      <td>8680.463905</td>\n",
              "      <td>NaN</td>\n",
              "    </tr>\n",
              "    <tr>\n",
              "      <th>std</th>\n",
              "      <td>5011.357453</td>\n",
              "      <td>NaN</td>\n",
              "    </tr>\n",
              "    <tr>\n",
              "      <th>min</th>\n",
              "      <td>1.000000</td>\n",
              "      <td>NaN</td>\n",
              "    </tr>\n",
              "    <tr>\n",
              "      <th>25%</th>\n",
              "      <td>4340.000000</td>\n",
              "      <td>NaN</td>\n",
              "    </tr>\n",
              "    <tr>\n",
              "      <th>50%</th>\n",
              "      <td>8681.000000</td>\n",
              "      <td>NaN</td>\n",
              "    </tr>\n",
              "    <tr>\n",
              "      <th>75%</th>\n",
              "      <td>13020.000000</td>\n",
              "      <td>NaN</td>\n",
              "    </tr>\n",
              "    <tr>\n",
              "      <th>max</th>\n",
              "      <td>17359.000000</td>\n",
              "      <td>NaN</td>\n",
              "    </tr>\n",
              "  </tbody>\n",
              "</table>\n",
              "</div>"
            ],
            "text/plain": [
              "       patient_number  estimated_onset_date\n",
              "count    17357.000000                   0.0\n",
              "mean      8680.463905                   NaN\n",
              "std       5011.357453                   NaN\n",
              "min          1.000000                   NaN\n",
              "25%       4340.000000                   NaN\n",
              "50%       8681.000000                   NaN\n",
              "75%      13020.000000                   NaN\n",
              "max      17359.000000                   NaN"
            ]
          },
          "metadata": {
            "tags": []
          },
          "execution_count": 9
        }
      ]
    },
    {
      "cell_type": "markdown",
      "metadata": {
        "id": "jKdqZGGfJeti",
        "colab_type": "text"
      },
      "source": [
        "### Pandas profiling"
      ]
    },
    {
      "cell_type": "code",
      "metadata": {
        "id": "O88QVvpWJfsQ",
        "colab_type": "code",
        "colab": {}
      },
      "source": [
        "#Perform Pandas profiling to understand quick overview of Dataset\n",
        "\n",
        "import pandas_profiling\n",
        "report = pandas_profiling.ProfileReport(RedWineData)\n",
        "#convert profile report as html file\n",
        "report.to_file(\"RedWineData_data.html\")\n",
        "\n",
        "from IPython.display import display,HTML,IFrame\n",
        "display(HTML(open('RedWineData_data.html').read()))"
      ],
      "execution_count": 0,
      "outputs": []
    },
    {
      "cell_type": "markdown",
      "metadata": {
        "id": "jbepfHUEFuZC",
        "colab_type": "text"
      },
      "source": [
        ""
      ]
    }
  ]
}